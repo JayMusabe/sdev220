{
 "cells": [
  {
   "cell_type": "code",
   "execution_count": 16,
   "id": "9233bee0",
   "metadata": {},
   "outputs": [],
   "source": [
    "# Make a list called things with these three strings as elements: \"mozzarella\", \"cinderella\", \"salmonella\"\n",
    "\n",
    "things = [\"mozzarella\", \"cinderella\",\"salmonella\"]\n"
   ]
  },
  {
   "cell_type": "code",
   "execution_count": 17,
   "id": "499cb5ed",
   "metadata": {},
   "outputs": [],
   "source": [
    "#Capitalize the element in things that refers to a person and then print the list. \n",
    "\n",
    "things[1] = things[1].capitalize()"
   ]
  },
  {
   "cell_type": "code",
   "execution_count": 18,
   "id": "2e3957c1",
   "metadata": {},
   "outputs": [
    {
     "data": {
      "text/plain": [
       "['mozzarella', 'Cinderella', 'salmonella']"
      ]
     },
     "execution_count": 18,
     "metadata": {},
     "output_type": "execute_result"
    }
   ],
   "source": [
    "# Checking to see if the capitalization worked\n",
    "\n",
    "things"
   ]
  },
  {
   "cell_type": "code",
   "execution_count": 19,
   "id": "46332541",
   "metadata": {},
   "outputs": [],
   "source": [
    "# Make the cheesy element of things all uppercase and then print the list.\n",
    "\n",
    "things[0] = things[0].upper()"
   ]
  },
  {
   "cell_type": "code",
   "execution_count": 20,
   "id": "0780bff9",
   "metadata": {},
   "outputs": [
    {
     "data": {
      "text/plain": [
       "['MOZZARELLA', 'Cinderella', 'salmonella']"
      ]
     },
     "execution_count": 20,
     "metadata": {},
     "output_type": "execute_result"
    }
   ],
   "source": [
    "#Make the cheesy element of things all uppercase and then print the list\n",
    "\n",
    "things"
   ]
  },
  {
   "cell_type": "code",
   "execution_count": 21,
   "id": "b1dff8e5",
   "metadata": {},
   "outputs": [],
   "source": [
    "#Delete the disease element from things\n",
    "\n",
    "del(things[2])"
   ]
  },
  {
   "cell_type": "code",
   "execution_count": 29,
   "id": "64ec6e38",
   "metadata": {},
   "outputs": [
    {
     "name": "stdout",
     "output_type": "stream",
     "text": [
      "Announcer: This year's Nobel prize goes to Jules for his work to eradicate salmonella from things!\n",
      "Jules: I am really so flatterd, I just deleted it from the list.\n",
      "       I would love to thank Python and Jupyter notebooks for that.\n",
      "       I won't turn down the money though, FYI.\n"
     ]
    }
   ],
   "source": [
    "#Collect my nobel prize\n",
    "\n",
    "print (\"Announcer: This year's Nobel prize goes to Jules for his work to eradicate salmonella from things!\")\n",
    "print (\"\"\"Jules: I am really so flatterd, I just deleted it from the list.\n",
    "       I would love to thank Python and Jupyter notebooks for that.\n",
    "       I won't turn down the money though, FYI.\"\"\")"
   ]
  },
  {
   "cell_type": "code",
   "execution_count": 27,
   "id": "cc5342cc",
   "metadata": {},
   "outputs": [
    {
     "data": {
      "text/plain": [
       "['MOZZARELLA', 'Cinderella']"
      ]
     },
     "execution_count": 27,
     "metadata": {},
     "output_type": "execute_result"
    }
   ],
   "source": [
    "#print the list.\n",
    "\n",
    "things"
   ]
  },
  {
   "cell_type": "code",
   "execution_count": 30,
   "id": "dd43ce0c",
   "metadata": {},
   "outputs": [],
   "source": [
    "# Define a function called good() that returns the following list: ['Harry', 'Ron', 'Hermione'].\n",
    "\n",
    "def good():\n",
    "    return ['Harry', 'Ron', 'Hermione']"
   ]
  },
  {
   "cell_type": "code",
   "execution_count": 32,
   "id": "8b5d0c6f",
   "metadata": {},
   "outputs": [
    {
     "data": {
      "text/plain": [
       "['Harry', 'Ron', 'Hermione']"
      ]
     },
     "execution_count": 32,
     "metadata": {},
     "output_type": "execute_result"
    }
   ],
   "source": [
    "good()"
   ]
  },
  {
   "cell_type": "code",
   "execution_count": 6,
   "id": "3610cd2e",
   "metadata": {},
   "outputs": [],
   "source": [
    "def get_odds():\n",
    "    odds = []\n",
    "    for a in range(10):\n",
    "        if a%2 != 0:\n",
    "            odds.append(a)\n",
    "            \n",
    "    print(odds[2])\n",
    "            \n",
    "        "
   ]
  },
  {
   "cell_type": "code",
   "execution_count": 7,
   "id": "ba96f7e6",
   "metadata": {},
   "outputs": [
    {
     "name": "stdout",
     "output_type": "stream",
     "text": [
      "5\n"
     ]
    }
   ],
   "source": [
    "get_odds()"
   ]
  },
  {
   "cell_type": "code",
   "execution_count": null,
   "id": "9f8bf8fb",
   "metadata": {},
   "outputs": [],
   "source": []
  },
  {
   "cell_type": "code",
   "execution_count": null,
   "id": "1720be06",
   "metadata": {},
   "outputs": [],
   "source": []
  },
  {
   "cell_type": "code",
   "execution_count": null,
   "id": "f69060a4",
   "metadata": {},
   "outputs": [],
   "source": []
  }
 ],
 "metadata": {
  "kernelspec": {
   "display_name": "Python 3 (ipykernel)",
   "language": "python",
   "name": "python3"
  },
  "language_info": {
   "codemirror_mode": {
    "name": "ipython",
    "version": 3
   },
   "file_extension": ".py",
   "mimetype": "text/x-python",
   "name": "python",
   "nbconvert_exporter": "python",
   "pygments_lexer": "ipython3",
   "version": "3.9.13"
  }
 },
 "nbformat": 4,
 "nbformat_minor": 5
}
