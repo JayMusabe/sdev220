{
 "cells": [
  {
   "cell_type": "code",
   "execution_count": 5,
   "id": "5f2bdf29",
   "metadata": {},
   "outputs": [
    {
     "name": "stdout",
     "output_type": "stream",
     "text": [
      "too high\n"
     ]
    }
   ],
   "source": [
    "secret = 6\n",
    "guess = 9\n",
    "if guess < secret:\n",
    "    print ('too low')\n",
    "elif guess > secret:\n",
    "    print ('too high')\n",
    "else:\n",
    "    print ('just right')"
   ]
  },
  {
   "cell_type": "code",
   "execution_count": 6,
   "id": "01c23f50",
   "metadata": {},
   "outputs": [
    {
     "name": "stdout",
     "output_type": "stream",
     "text": [
      "These are small\n",
      "cherry, pea\n",
      "These are not green\n",
      "pea, watermelon\n"
     ]
    }
   ],
   "source": [
    "small = True\n",
    "green = False\n",
    "if small == True:\n",
    "    print(\"These are small\")\n",
    "    print (\"cherry, pea\")\n",
    "else:\n",
    "    print (\"watermelon, pumpkin\")\n",
    "    \n",
    "if green == False:\n",
    "    print(\"These are not green\")\n",
    "    print(\"pea, watermelon\")\n",
    "else:\n",
    "    print (\"cherry, pumpkin\")"
   ]
  },
  {
   "cell_type": "code",
   "execution_count": 7,
   "id": "98e7e02b",
   "metadata": {},
   "outputs": [
    {
     "name": "stdout",
     "output_type": "stream",
     "text": [
      "3\n",
      "2\n",
      "1\n",
      "0\n"
     ]
    }
   ],
   "source": [
    "list = [3,2,1,0]\n",
    "for x in list:\n",
    "    print (x)"
   ]
  },
  {
   "cell_type": "code",
   "execution_count": 11,
   "id": "4ca798b5",
   "metadata": {},
   "outputs": [
    {
     "name": "stdout",
     "output_type": "stream",
     "text": [
      "too low\n",
      "too low\n",
      "too low\n",
      "too low\n",
      "too low\n",
      "too low\n",
      "found it!\n"
     ]
    }
   ],
   "source": [
    "guess_me = 7\n",
    "number = 1\n",
    "while guess_me != number:\n",
    "    if number < guess_me:\n",
    "        print ('too low')\n",
    "    else:\n",
    "        print('oops')\n",
    "    number += 1\n",
    "print ('found it!')"
   ]
  },
  {
   "cell_type": "code",
   "execution_count": 12,
   "id": "056293fb",
   "metadata": {},
   "outputs": [
    {
     "name": "stdout",
     "output_type": "stream",
     "text": [
      "too low\n",
      "too low\n",
      "too low\n",
      "too low\n",
      "too low\n",
      "found it!\n",
      "oops\n",
      "oops\n",
      "oops\n",
      "oops\n"
     ]
    }
   ],
   "source": [
    "guess_me = 5\n",
    "for number in range (10):\n",
    "    if number < guess_me:\n",
    "        print (\"too low\")\n",
    "    elif number == guess_me:\n",
    "        print (\"found it!\")\n",
    "    else:\n",
    "        print (\"oops\")"
   ]
  },
  {
   "cell_type": "code",
   "execution_count": null,
   "id": "a039e17b",
   "metadata": {},
   "outputs": [],
   "source": []
  }
 ],
 "metadata": {
  "kernelspec": {
   "display_name": "Python 3 (ipykernel)",
   "language": "python",
   "name": "python3"
  },
  "language_info": {
   "codemirror_mode": {
    "name": "ipython",
    "version": 3
   },
   "file_extension": ".py",
   "mimetype": "text/x-python",
   "name": "python",
   "nbconvert_exporter": "python",
   "pygments_lexer": "ipython3",
   "version": "3.9.13"
  }
 },
 "nbformat": 4,
 "nbformat_minor": 5
}
